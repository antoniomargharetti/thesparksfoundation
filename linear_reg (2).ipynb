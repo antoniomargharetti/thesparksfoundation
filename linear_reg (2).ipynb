{
  "nbformat": 4,
  "nbformat_minor": 0,
  "metadata": {
    "kernelspec": {
      "display_name": "Python 3",
      "language": "python",
      "name": "python3"
    },
    "language_info": {
      "codemirror_mode": {
        "name": "ipython",
        "version": 3
      },
      "file_extension": ".py",
      "mimetype": "text/x-python",
      "name": "python",
      "nbconvert_exporter": "python",
      "pygments_lexer": "ipython3",
      "version": "3.8.3"
    },
    "colab": {
      "name": "linear_reg.ipynb",
      "provenance": [],
      "collapsed_sections": []
    }
  },
  "cells": [
    {
      "cell_type": "markdown",
      "metadata": {
        "id": "C1pH1lEHd7Cc"
      },
      "source": [
        "## **Linear Regression with Python Scikit Learn**\n",
        "In this section we will see how the Python Scikit-Learn library for machine learning can be used to implement regression functions. We will start with simple linear regression involving two variables.\n",
        "\n",
        "### **Simple Linear Regression**\n",
        "In this regression task we will predict the percentage of marks that a student is expected to score based upon the number of hours they studied. This is a simple linear regression task as it involves just two variables.\n",
        "\n",
        "Author -Achintya Nigam"
      ]
    },
    {
      "cell_type": "code",
      "metadata": {
        "id": "OQgiSqbld7Cd"
      },
      "source": [
        "# Importing Libraries\n",
        "import numpy as np\n",
        "import pandas as pd\n",
        "import matplotlib.pyplot as plt\n",
        "from sklearn import linear_model"
      ],
      "execution_count": null,
      "outputs": []
    },
    {
      "cell_type": "markdown",
      "metadata": {
        "id": "QuuYBBP3l4NE"
      },
      "source": [
        "Importing Data"
      ]
    },
    {
      "cell_type": "code",
      "metadata": {
        "id": "bRBqXxdhd7Cg",
        "outputId": "1ad7c1d7-95bd-4c5e-ec7f-80edced4d773",
        "colab": {
          "base_uri": "https://localhost:8080/",
          "height": 343
        }
      },
      "source": [
        "url= \"http://bit.ly/w-data\"\n",
        "db = pd.read_csv(url)\n",
        "db.head(10)"
      ],
      "execution_count": null,
      "outputs": [
        {
          "output_type": "execute_result",
          "data": {
            "text/html": [
              "<div>\n",
              "<style scoped>\n",
              "    .dataframe tbody tr th:only-of-type {\n",
              "        vertical-align: middle;\n",
              "    }\n",
              "\n",
              "    .dataframe tbody tr th {\n",
              "        vertical-align: top;\n",
              "    }\n",
              "\n",
              "    .dataframe thead th {\n",
              "        text-align: right;\n",
              "    }\n",
              "</style>\n",
              "<table border=\"1\" class=\"dataframe\">\n",
              "  <thead>\n",
              "    <tr style=\"text-align: right;\">\n",
              "      <th></th>\n",
              "      <th>Hours</th>\n",
              "      <th>Scores</th>\n",
              "    </tr>\n",
              "  </thead>\n",
              "  <tbody>\n",
              "    <tr>\n",
              "      <th>0</th>\n",
              "      <td>2.5</td>\n",
              "      <td>21</td>\n",
              "    </tr>\n",
              "    <tr>\n",
              "      <th>1</th>\n",
              "      <td>5.1</td>\n",
              "      <td>47</td>\n",
              "    </tr>\n",
              "    <tr>\n",
              "      <th>2</th>\n",
              "      <td>3.2</td>\n",
              "      <td>27</td>\n",
              "    </tr>\n",
              "    <tr>\n",
              "      <th>3</th>\n",
              "      <td>8.5</td>\n",
              "      <td>75</td>\n",
              "    </tr>\n",
              "    <tr>\n",
              "      <th>4</th>\n",
              "      <td>3.5</td>\n",
              "      <td>30</td>\n",
              "    </tr>\n",
              "    <tr>\n",
              "      <th>5</th>\n",
              "      <td>1.5</td>\n",
              "      <td>20</td>\n",
              "    </tr>\n",
              "    <tr>\n",
              "      <th>6</th>\n",
              "      <td>9.2</td>\n",
              "      <td>88</td>\n",
              "    </tr>\n",
              "    <tr>\n",
              "      <th>7</th>\n",
              "      <td>5.5</td>\n",
              "      <td>60</td>\n",
              "    </tr>\n",
              "    <tr>\n",
              "      <th>8</th>\n",
              "      <td>8.3</td>\n",
              "      <td>81</td>\n",
              "    </tr>\n",
              "    <tr>\n",
              "      <th>9</th>\n",
              "      <td>2.7</td>\n",
              "      <td>25</td>\n",
              "    </tr>\n",
              "  </tbody>\n",
              "</table>\n",
              "</div>"
            ],
            "text/plain": [
              "   Hours  Scores\n",
              "0    2.5      21\n",
              "1    5.1      47\n",
              "2    3.2      27\n",
              "3    8.5      75\n",
              "4    3.5      30\n",
              "5    1.5      20\n",
              "6    9.2      88\n",
              "7    5.5      60\n",
              "8    8.3      81\n",
              "9    2.7      25"
            ]
          },
          "metadata": {
            "tags": []
          },
          "execution_count": 10
        }
      ]
    },
    {
      "cell_type": "markdown",
      "metadata": {
        "id": "nAg39jz4hNnn"
      },
      "source": [
        "Plotting data on a 2-D graph and seeing if there is any relation between the number of hours and marks scored ."
      ]
    },
    {
      "cell_type": "code",
      "metadata": {
        "id": "c0qPKfukf_N5",
        "outputId": "98a82bde-839a-4832-9225-38fe5472a575",
        "colab": {
          "base_uri": "https://localhost:8080/",
          "height": 312
        }
      },
      "source": [
        "plt.scatter(db[\"Hours\"],db[\"Scores\"],color='green')\n",
        "plt.title(\"Hours vs Scores\")\n",
        "plt.xlabel('Hours')  \n",
        "plt.ylabel('Scores') "
      ],
      "execution_count": null,
      "outputs": [
        {
          "output_type": "execute_result",
          "data": {
            "text/plain": [
              "Text(0, 0.5, 'Scores')"
            ]
          },
          "metadata": {
            "tags": []
          },
          "execution_count": 11
        },
        {
          "output_type": "display_data",
          "data": {
            "image/png": "[encoded data removed]",
            "text/plain": [
              "<Figure size 432x288 with 1 Axes>"
            ]
          },
          "metadata": {
            "tags": [],
            "needs_background": "light"
          }
        }
      ]
    },
    {
      "cell_type": "markdown",
      "metadata": {
        "id": "tMgqwV2RfJ_Q"
      },
      "source": [
        "We can observe that there is a linear relation between the numbers of hours studied and marks scored\n"
      ]
    },
    {
      "cell_type": "markdown",
      "metadata": {
        "id": "y9V-hVWW-Afx"
      },
      "source": [
        "### **Preparing the data**\n",
        "Now we split the data into 2 sets training data set and testing data set."
      ]
    },
    {
      "cell_type": "code",
      "metadata": {
        "id": "4-sFF5eHpwO1"
      },
      "source": [
        "\n",
        "train = db[:(int((len(db)*0.8)))]\n",
        "test = db[(int((len(db)*0.8))):]\n",
        "train_xc=np.array(train[[\"Hours\"]])\n",
        "train_yc=np.array(train[[\"Scores\"]])\n",
        "test_xc=np.array(test[[\"Hours\"]])\n",
        "test_yc=np.array(test[[\"Scores\"]])\n"
      ],
      "execution_count": null,
      "outputs": []
    },
    {
      "cell_type": "markdown",
      "metadata": {
        "id": "a6WXptFU5CkC"
      },
      "source": [
        "### **Training the Algorithm**\n",
        "Now we finally train the algorithm so we can start making predictions\n"
      ]
    },
    {
      "cell_type": "code",
      "metadata": {
        "id": "yBIOI9bmd7Cj"
      },
      "source": [
        "lr=linear_model.LinearRegression()\n",
        "lr.fit(train_xc,train_yc)\n",
        "test_y_ = lr.predict(test_xc)"
      ],
      "execution_count": null,
      "outputs": []
    },
    {
      "cell_type": "markdown",
      "metadata": {
        "id": "OAgQluWRjh33"
      },
      "source": [
        "### **Plotting the regression line**\n",
        "Now with the data at hand we can plot the regression line which will helps us predict scores from number of hours studied."
      ]
    },
    {
      "cell_type": "code",
      "metadata": {
        "id": "GlU82N9Sd7Cm",
        "outputId": "262f6bfd-642d-4942-b866-1034b759157d",
        "colab": {
          "base_uri": "https://localhost:8080/",
          "height": 296
        }
      },
      "source": [
        "plt.scatter(train[\"Hours\"],train[\"Scores\"],color='green')\n",
        "plt.plot(train_xc,train_xc*lr.coef_+lr.intercept_, color='orange')\n",
        "plt.xlabel(\"Hours\")\n",
        "plt.ylabel(\"Scores\")"
      ],
      "execution_count": null,
      "outputs": [
        {
          "output_type": "execute_result",
          "data": {
            "text/plain": [
              "Text(0, 0.5, 'Scores')"
            ]
          },
          "metadata": {
            "tags": []
          },
          "execution_count": 14
        },
        {
          "output_type": "display_data",
          "data": {
            "image/png": "[encoded data removed]",
            "text/plain": [
              "<Figure size 432x288 with 1 Axes>"
            ]
          },
          "metadata": {
            "tags": [],
            "needs_background": "light"
          }
        }
      ]
    },
    {
      "cell_type": "markdown",
      "metadata": {
        "id": "2KnM4YXc82Js"
      },
      "source": [
        "### **Making Predictions**\n",
        "Now that we have trained our algorithm, it's time to make some predictions."
      ]
    },
    {
      "cell_type": "markdown",
      "metadata": {
        "id": "6noJR7N-9GIp"
      },
      "source": [
        "Comparing Actual and Predicted values"
      ]
    },
    {
      "cell_type": "code",
      "metadata": {
        "id": "6bmZUMZh5QLb",
        "outputId": "604130d1-d0d6-49cb-e573-c7033958f950",
        "colab": {
          "base_uri": "https://localhost:8080/",
          "height": 118
        }
      },
      "source": [
        "print(\"Actual Predicted\")\n",
        "for a, b in zip(test_yc, test_y_):\n",
        "    print (a, b)"
      ],
      "execution_count": null,
      "outputs": [
        {
          "output_type": "stream",
          "text": [
            "Actual Predicted\n",
            "[30] [28.73632549]\n",
            "[54] [48.72913629]\n",
            "[35] [39.2087502]\n",
            "[76] [68.72194709]\n",
            "[86] [77.29029458]\n"
          ],
          "name": "stdout"
        }
      ]
    },
    {
      "cell_type": "markdown",
      "metadata": {
        "id": "FShcPABikcbp"
      },
      "source": [
        "Now making a prediction for given input"
      ]
    },
    {
      "cell_type": "code",
      "metadata": {
        "id": "pqbMgBe4d7Co",
        "outputId": "c87a972d-bcb5-440c-c7be-0d364dc5c0f7",
        "colab": {
          "base_uri": "https://localhost:8080/",
          "height": 50
        }
      },
      "source": [
        "time = float(input(\"Enter Time: \"))\n",
        "answer=float(time*lr.coef_+lr.intercept_)\n",
        "print(\"The predicted score after studying for \" + str(time) +\" hours is \",answer)"
      ],
      "execution_count": null,
      "outputs": [
        {
          "output_type": "stream",
          "text": [
            "Enter Time: 9.25\n",
            "The predicted score after studying for 9.25 hours is  91.09485441683265\n"
          ],
          "name": "stdout"
        }
      ]
    },
    {
      "cell_type": "markdown",
      "metadata": {
        "id": "-FcbTtjT9bqN"
      },
      "source": [
        "### **Evaluating the model**\n",
        "\n",
        "The final step is to evaluate the performance of algorithm. This step is particularly important to compare how well different algorithms perform on a particular dataset. For simplicity here, we have chosen the mean square error. There are many such metrics."
      ]
    },
    {
      "cell_type": "code",
      "metadata": {
        "id": "AbziuWL9d7Cr",
        "outputId": "4dea3fc8-5dc0-4190-ddf7-84de5176879a",
        "colab": {
          "base_uri": "https://localhost:8080/",
          "height": 34
        }
      },
      "source": [
        "from sklearn import metrics \n",
        "test_y_ = lr.predict(test_xc)\n",
        "print('Mean Absolute Error:', \n",
        "      metrics.mean_absolute_error(test_yc, test_y_))"
      ],
      "execution_count": null,
      "outputs": [
        {
          "output_type": "stream",
          "text": [
            "Mean Absolute Error: 5.346209347444651\n"
          ],
          "name": "stdout"
        }
      ]
    }
  ]
}